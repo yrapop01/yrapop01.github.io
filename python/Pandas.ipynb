{
 "cells": [
  {
   "cell_type": "markdown",
   "metadata": {},
   "source": [
    "# Introduction"
   ]
  },
  {
   "cell_type": "code",
   "execution_count": 16,
   "metadata": {},
   "outputs": [
    {
     "data": {
      "text/html": [
       "<div>\n",
       "<style scoped>\n",
       "    .dataframe tbody tr th:only-of-type {\n",
       "        vertical-align: middle;\n",
       "    }\n",
       "\n",
       "    .dataframe tbody tr th {\n",
       "        vertical-align: top;\n",
       "    }\n",
       "\n",
       "    .dataframe thead th {\n",
       "        text-align: right;\n",
       "    }\n",
       "</style>\n",
       "<table border=\"1\" class=\"dataframe\">\n",
       "  <thead>\n",
       "    <tr style=\"text-align: right;\">\n",
       "      <th></th>\n",
       "      <th>Sunday</th>\n",
       "      <th>Monday</th>\n",
       "      <th>Tuesday</th>\n",
       "    </tr>\n",
       "  </thead>\n",
       "  <tbody>\n",
       "    <tr>\n",
       "      <th>Efrat</th>\n",
       "      <td>12.8</td>\n",
       "      <td>8.6</td>\n",
       "      <td>12.0</td>\n",
       "    </tr>\n",
       "    <tr>\n",
       "      <th>Liel</th>\n",
       "      <td>5.0</td>\n",
       "      <td>7.7</td>\n",
       "      <td>6.0</td>\n",
       "    </tr>\n",
       "  </tbody>\n",
       "</table>\n",
       "</div>"
      ],
      "text/plain": [
       "       Sunday  Monday  Tuesday\n",
       "Efrat    12.8     8.6     12.0\n",
       "Liel      5.0     7.7      6.0"
      ]
     },
     "execution_count": 16,
     "metadata": {},
     "output_type": "execute_result"
    }
   ],
   "source": [
    "import numpy as np \n",
    "import pandas as pd\n",
    "# from IPython.display import display\n",
    "# %matplotlib inline\n",
    "\n",
    "data = np.array([[12.8, 8.6, 12], [5, 7.7, 6]])\n",
    "columns = np.array(['Sunday', 'Monday', 'Tuesday'])\n",
    "index = np.array(['Efrat', 'Liel'])\n",
    "\n",
    "df = pd.DataFrame(data, index, columns, copy=False)\n",
    "df"
   ]
  },
  {
   "cell_type": "markdown",
   "metadata": {},
   "source": [
    "*Change the cell above so that the cell below would change the number of hours Efrat worked on Sunday to 9.6*"
   ]
  },
  {
   "cell_type": "code",
   "execution_count": 17,
   "metadata": {},
   "outputs": [],
   "source": [
    "# Change the number of hours Efrat worked on Sunday to 9.6\n",
    "\n",
    "data[0][0] = 9.6"
   ]
  },
  {
   "cell_type": "code",
   "execution_count": 18,
   "metadata": {},
   "outputs": [
    {
     "data": {
      "text/html": [
       "<div>\n",
       "<style scoped>\n",
       "    .dataframe tbody tr th:only-of-type {\n",
       "        vertical-align: middle;\n",
       "    }\n",
       "\n",
       "    .dataframe tbody tr th {\n",
       "        vertical-align: top;\n",
       "    }\n",
       "\n",
       "    .dataframe thead th {\n",
       "        text-align: right;\n",
       "    }\n",
       "</style>\n",
       "<table border=\"1\" class=\"dataframe\">\n",
       "  <thead>\n",
       "    <tr style=\"text-align: right;\">\n",
       "      <th></th>\n",
       "      <th>Sunday</th>\n",
       "      <th>Monday</th>\n",
       "      <th>Tuesday</th>\n",
       "    </tr>\n",
       "  </thead>\n",
       "  <tbody>\n",
       "    <tr>\n",
       "      <th>Efrat</th>\n",
       "      <td>9.6</td>\n",
       "      <td>8.6</td>\n",
       "      <td>12.0</td>\n",
       "    </tr>\n",
       "    <tr>\n",
       "      <th>Liel</th>\n",
       "      <td>5.0</td>\n",
       "      <td>7.7</td>\n",
       "      <td>6.0</td>\n",
       "    </tr>\n",
       "  </tbody>\n",
       "</table>\n",
       "</div>"
      ],
      "text/plain": [
       "       Sunday  Monday  Tuesday\n",
       "Efrat     9.6     8.6     12.0\n",
       "Liel      5.0     7.7      6.0"
      ]
     },
     "execution_count": 18,
     "metadata": {},
     "output_type": "execute_result"
    },
    {
     "data": {
      "image/png": "[encoded data removed]",
      "text/plain": [
       "<Figure size 432x288 with 1 Axes>"
      ]
     },
     "metadata": {
      "needs_background": "light"
     },
     "output_type": "display_data"
    }
   ],
   "source": [
    "df.plot.bar()\n",
    "df"
   ]
  },
  {
   "cell_type": "markdown",
   "metadata": {},
   "source": [
    "## Indexing"
   ]
  },
  {
   "cell_type": "code",
   "execution_count": 19,
   "metadata": {},
   "outputs": [
    {
     "data": {
      "text/html": [
       "<div>\n",
       "<style scoped>\n",
       "    .dataframe tbody tr th:only-of-type {\n",
       "        vertical-align: middle;\n",
       "    }\n",
       "\n",
       "    .dataframe tbody tr th {\n",
       "        vertical-align: top;\n",
       "    }\n",
       "\n",
       "    .dataframe thead th {\n",
       "        text-align: right;\n",
       "    }\n",
       "</style>\n",
       "<table border=\"1\" class=\"dataframe\">\n",
       "  <thead>\n",
       "    <tr style=\"text-align: right;\">\n",
       "      <th></th>\n",
       "      <th>Sunday</th>\n",
       "      <th>Monday</th>\n",
       "      <th>Tuesday</th>\n",
       "      <th>Wednesday</th>\n",
       "    </tr>\n",
       "  </thead>\n",
       "  <tbody>\n",
       "    <tr>\n",
       "      <th>Efrat</th>\n",
       "      <td>9.6</td>\n",
       "      <td>8.6</td>\n",
       "      <td>12.0</td>\n",
       "      <td>9.1</td>\n",
       "    </tr>\n",
       "    <tr>\n",
       "      <th>Liel</th>\n",
       "      <td>5.0</td>\n",
       "      <td>7.7</td>\n",
       "      <td>6.0</td>\n",
       "      <td>8.2</td>\n",
       "    </tr>\n",
       "  </tbody>\n",
       "</table>\n",
       "</div>"
      ],
      "text/plain": [
       "       Sunday  Monday  Tuesday  Wednesday\n",
       "Efrat     9.6     8.6     12.0        9.1\n",
       "Liel      5.0     7.7      6.0        8.2"
      ]
     },
     "execution_count": 19,
     "metadata": {},
     "output_type": "execute_result"
    }
   ],
   "source": [
    "# Add a row to df for Wednesday assuming that\n",
    "# the number of hours  on Wednsday for all the workers\n",
    "# was the same as on Monday plus half an hour.\n",
    "\n",
    "df['Wednesday'] = df['Monday'] + 0.5\n",
    "df"
   ]
  },
  {
   "cell_type": "code",
   "execution_count": 20,
   "metadata": {},
   "outputs": [],
   "source": [
    "# \"Increase\" the number of hours that Liel worked on Sunday and Tuesday by 15 minutes\n",
    "\n",
    "df.loc['Liel'][['Sunday', 'Tuesday']] += 0.25"
   ]
  },
  {
   "cell_type": "code",
   "execution_count": 21,
   "metadata": {},
   "outputs": [
    {
     "data": {
      "text/html": [
       "<div>\n",
       "<style scoped>\n",
       "    .dataframe tbody tr th:only-of-type {\n",
       "        vertical-align: middle;\n",
       "    }\n",
       "\n",
       "    .dataframe tbody tr th {\n",
       "        vertical-align: top;\n",
       "    }\n",
       "\n",
       "    .dataframe thead th {\n",
       "        text-align: right;\n",
       "    }\n",
       "</style>\n",
       "<table border=\"1\" class=\"dataframe\">\n",
       "  <thead>\n",
       "    <tr style=\"text-align: right;\">\n",
       "      <th></th>\n",
       "      <th>Sunday</th>\n",
       "      <th>Monday</th>\n",
       "      <th>Tuesday</th>\n",
       "      <th>Wednesday</th>\n",
       "      <th>Thursday</th>\n",
       "    </tr>\n",
       "  </thead>\n",
       "  <tbody>\n",
       "    <tr>\n",
       "      <th>Efrat</th>\n",
       "      <td>9.60</td>\n",
       "      <td>8.6</td>\n",
       "      <td>12.00</td>\n",
       "      <td>9.1</td>\n",
       "      <td>9.1</td>\n",
       "    </tr>\n",
       "    <tr>\n",
       "      <th>Liel</th>\n",
       "      <td>5.25</td>\n",
       "      <td>7.7</td>\n",
       "      <td>6.25</td>\n",
       "      <td>8.2</td>\n",
       "      <td>8.2</td>\n",
       "    </tr>\n",
       "  </tbody>\n",
       "</table>\n",
       "</div>"
      ],
      "text/plain": [
       "       Sunday  Monday  Tuesday  Wednesday  Thursday\n",
       "Efrat    9.60     8.6    12.00        9.1       9.1\n",
       "Liel     5.25     7.7     6.25        8.2       8.2"
      ]
     },
     "execution_count": 21,
     "metadata": {},
     "output_type": "execute_result"
    }
   ],
   "source": [
    "# Add a row for df for Thursday supposing that Efrat\n",
    "# worked that day as much as Liel on Wednesday and\n",
    "# vice versa (Liel worked that day as much as Efrat on Wednesday)\n",
    "\n",
    "df['Thursday'] = df['Wednesday'].iloc[::-1].copy()\n",
    "df"
   ]
  },
  {
   "cell_type": "code",
   "execution_count": 22,
   "metadata": {},
   "outputs": [
    {
     "data": {
      "text/html": [
       "<div>\n",
       "<style scoped>\n",
       "    .dataframe tbody tr th:only-of-type {\n",
       "        vertical-align: middle;\n",
       "    }\n",
       "\n",
       "    .dataframe tbody tr th {\n",
       "        vertical-align: top;\n",
       "    }\n",
       "\n",
       "    .dataframe thead th {\n",
       "        text-align: right;\n",
       "    }\n",
       "</style>\n",
       "<table border=\"1\" class=\"dataframe\">\n",
       "  <thead>\n",
       "    <tr style=\"text-align: right;\">\n",
       "      <th></th>\n",
       "      <th>Sunday</th>\n",
       "      <th>Monday</th>\n",
       "      <th>Tuesday</th>\n",
       "      <th>Wednesday</th>\n",
       "      <th>Thursday</th>\n",
       "    </tr>\n",
       "  </thead>\n",
       "  <tbody>\n",
       "    <tr>\n",
       "      <th>Efrat</th>\n",
       "      <td>9.60</td>\n",
       "      <td>8.6</td>\n",
       "      <td>12.00</td>\n",
       "      <td>9.1</td>\n",
       "      <td>9.1</td>\n",
       "    </tr>\n",
       "    <tr>\n",
       "      <th>Liel</th>\n",
       "      <td>5.25</td>\n",
       "      <td>7.7</td>\n",
       "      <td>6.25</td>\n",
       "      <td>8.2</td>\n",
       "      <td>8.2</td>\n",
       "    </tr>\n",
       "  </tbody>\n",
       "</table>\n",
       "</div>"
      ],
      "text/plain": [
       "       Sunday  Monday  Tuesday  Wednesday  Thursday\n",
       "Efrat    9.60     8.6    12.00        9.1       9.1\n",
       "Liel     5.25     7.7     6.25        8.2       8.2"
      ]
     },
     "execution_count": 22,
     "metadata": {},
     "output_type": "execute_result"
    },
    {
     "data": {
      "image/png": "[encoded data removed]",
      "text/plain": [
       "<Figure size 432x288 with 1 Axes>"
      ]
     },
     "metadata": {
      "needs_background": "light"
     },
     "output_type": "display_data"
    }
   ],
   "source": [
    "df.transpose().plot.bar()\n",
    "df"
   ]
  },
  {
   "cell_type": "code",
   "execution_count": 23,
   "metadata": {},
   "outputs": [
    {
     "data": {
      "text/html": [
       "<div>\n",
       "<style scoped>\n",
       "    .dataframe tbody tr th:only-of-type {\n",
       "        vertical-align: middle;\n",
       "    }\n",
       "\n",
       "    .dataframe tbody tr th {\n",
       "        vertical-align: top;\n",
       "    }\n",
       "\n",
       "    .dataframe thead th {\n",
       "        text-align: right;\n",
       "    }\n",
       "</style>\n",
       "<table border=\"1\" class=\"dataframe\">\n",
       "  <thead>\n",
       "    <tr style=\"text-align: right;\">\n",
       "      <th></th>\n",
       "      <th>Sunday</th>\n",
       "      <th>Monday</th>\n",
       "      <th>Tuesday</th>\n",
       "      <th>Wednesday</th>\n",
       "      <th>Thursday</th>\n",
       "    </tr>\n",
       "  </thead>\n",
       "  <tbody>\n",
       "    <tr>\n",
       "      <th>Efrat</th>\n",
       "      <td>9.60</td>\n",
       "      <td>8.6</td>\n",
       "      <td>12.00</td>\n",
       "      <td>9.1</td>\n",
       "      <td>9.1</td>\n",
       "    </tr>\n",
       "    <tr>\n",
       "      <th>Liel</th>\n",
       "      <td>5.25</td>\n",
       "      <td>7.7</td>\n",
       "      <td>6.25</td>\n",
       "      <td>8.2</td>\n",
       "      <td>8.2</td>\n",
       "    </tr>\n",
       "  </tbody>\n",
       "</table>\n",
       "</div>"
      ],
      "text/plain": [
       "       Sunday  Monday  Tuesday  Wednesday  Thursday\n",
       "Efrat    9.60     8.6    12.00        9.1       9.1\n",
       "Liel     5.25     7.7     6.25        8.2       8.2"
      ]
     },
     "execution_count": 23,
     "metadata": {},
     "output_type": "execute_result"
    }
   ],
   "source": [
    "df"
   ]
  },
  {
   "cell_type": "code",
   "execution_count": 24,
   "metadata": {
    "pixiedust": {
     "displayParams": {
      "handlerId": "tableView"
     }
    }
   },
   "outputs": [
    {
     "data": {
      "text/html": [
       "<div>\n",
       "<style scoped>\n",
       "    .dataframe tbody tr th:only-of-type {\n",
       "        vertical-align: middle;\n",
       "    }\n",
       "\n",
       "    .dataframe tbody tr th {\n",
       "        vertical-align: top;\n",
       "    }\n",
       "\n",
       "    .dataframe thead th {\n",
       "        text-align: right;\n",
       "    }\n",
       "</style>\n",
       "<table border=\"1\" class=\"dataframe\">\n",
       "  <thead>\n",
       "    <tr style=\"text-align: right;\">\n",
       "      <th></th>\n",
       "      <th>Sunday</th>\n",
       "      <th>Monday</th>\n",
       "      <th>Tuesday</th>\n",
       "      <th>Wednesday</th>\n",
       "      <th>Thursday</th>\n",
       "    </tr>\n",
       "    <tr>\n",
       "      <th>Name</th>\n",
       "      <th></th>\n",
       "      <th></th>\n",
       "      <th></th>\n",
       "      <th></th>\n",
       "      <th></th>\n",
       "    </tr>\n",
       "  </thead>\n",
       "  <tbody>\n",
       "    <tr>\n",
       "      <th>Efrat</th>\n",
       "      <td>9.60</td>\n",
       "      <td>8.6</td>\n",
       "      <td>12.00</td>\n",
       "      <td>9.1</td>\n",
       "      <td>9.1</td>\n",
       "    </tr>\n",
       "    <tr>\n",
       "      <th>Liel</th>\n",
       "      <td>5.25</td>\n",
       "      <td>7.7</td>\n",
       "      <td>6.25</td>\n",
       "      <td>8.2</td>\n",
       "      <td>8.2</td>\n",
       "    </tr>\n",
       "  </tbody>\n",
       "</table>\n",
       "</div>"
      ],
      "text/plain": [
       "       Sunday  Monday  Tuesday  Wednesday  Thursday\n",
       "Name                                               \n",
       "Efrat    9.60     8.6    12.00        9.1       9.1\n",
       "Liel     5.25     7.7     6.25        8.2       8.2"
      ]
     },
     "metadata": {},
     "output_type": "display_data"
    },
    {
     "data": {
      "text/html": [
       "<div>\n",
       "<style scoped>\n",
       "    .dataframe tbody tr th:only-of-type {\n",
       "        vertical-align: middle;\n",
       "    }\n",
       "\n",
       "    .dataframe tbody tr th {\n",
       "        vertical-align: top;\n",
       "    }\n",
       "\n",
       "    .dataframe thead th {\n",
       "        text-align: right;\n",
       "    }\n",
       "</style>\n",
       "<table border=\"1\" class=\"dataframe\">\n",
       "  <thead>\n",
       "    <tr style=\"text-align: right;\">\n",
       "      <th></th>\n",
       "      <th>Name</th>\n",
       "      <th>Sunday</th>\n",
       "      <th>Monday</th>\n",
       "      <th>Tuesday</th>\n",
       "      <th>Wednesday</th>\n",
       "      <th>Thursday</th>\n",
       "    </tr>\n",
       "  </thead>\n",
       "  <tbody>\n",
       "    <tr>\n",
       "      <th>0</th>\n",
       "      <td>Efrat</td>\n",
       "      <td>9.60</td>\n",
       "      <td>8.6</td>\n",
       "      <td>12.00</td>\n",
       "      <td>9.1</td>\n",
       "      <td>9.1</td>\n",
       "    </tr>\n",
       "    <tr>\n",
       "      <th>1</th>\n",
       "      <td>Liel</td>\n",
       "      <td>5.25</td>\n",
       "      <td>7.7</td>\n",
       "      <td>6.25</td>\n",
       "      <td>8.2</td>\n",
       "      <td>8.2</td>\n",
       "    </tr>\n",
       "  </tbody>\n",
       "</table>\n",
       "</div>"
      ],
      "text/plain": [
       "    Name  Sunday  Monday  Tuesday  Wednesday  Thursday\n",
       "0  Efrat    9.60     8.6    12.00        9.1       9.1\n",
       "1   Liel    5.25     7.7     6.25        8.2       8.2"
      ]
     },
     "metadata": {},
     "output_type": "display_data"
    },
    {
     "data": {
      "text/html": [
       "<div>\n",
       "<style scoped>\n",
       "    .dataframe tbody tr th:only-of-type {\n",
       "        vertical-align: middle;\n",
       "    }\n",
       "\n",
       "    .dataframe tbody tr th {\n",
       "        vertical-align: top;\n",
       "    }\n",
       "\n",
       "    .dataframe thead th {\n",
       "        text-align: right;\n",
       "    }\n",
       "</style>\n",
       "<table border=\"1\" class=\"dataframe\">\n",
       "  <thead>\n",
       "    <tr style=\"text-align: right;\">\n",
       "      <th></th>\n",
       "      <th>Sunday</th>\n",
       "      <th>Monday</th>\n",
       "      <th>Tuesday</th>\n",
       "      <th>Wednesday</th>\n",
       "      <th>Thursday</th>\n",
       "    </tr>\n",
       "    <tr>\n",
       "      <th>Name</th>\n",
       "      <th></th>\n",
       "      <th></th>\n",
       "      <th></th>\n",
       "      <th></th>\n",
       "      <th></th>\n",
       "    </tr>\n",
       "  </thead>\n",
       "  <tbody>\n",
       "    <tr>\n",
       "      <th>Efrat</th>\n",
       "      <td>9.60</td>\n",
       "      <td>8.6</td>\n",
       "      <td>12.00</td>\n",
       "      <td>9.1</td>\n",
       "      <td>9.1</td>\n",
       "    </tr>\n",
       "    <tr>\n",
       "      <th>Liel</th>\n",
       "      <td>5.25</td>\n",
       "      <td>7.7</td>\n",
       "      <td>6.25</td>\n",
       "      <td>8.2</td>\n",
       "      <td>8.2</td>\n",
       "    </tr>\n",
       "  </tbody>\n",
       "</table>\n",
       "</div>"
      ],
      "text/plain": [
       "       Sunday  Monday  Tuesday  Wednesday  Thursday\n",
       "Name                                               \n",
       "Efrat    9.60     8.6    12.00        9.1       9.1\n",
       "Liel     5.25     7.7     6.25        8.2       8.2"
      ]
     },
     "metadata": {},
     "output_type": "display_data"
    },
    {
     "data": {
      "text/html": [
       "<div>\n",
       "<style scoped>\n",
       "    .dataframe tbody tr th:only-of-type {\n",
       "        vertical-align: middle;\n",
       "    }\n",
       "\n",
       "    .dataframe tbody tr th {\n",
       "        vertical-align: top;\n",
       "    }\n",
       "\n",
       "    .dataframe thead th {\n",
       "        text-align: right;\n",
       "    }\n",
       "</style>\n",
       "<table border=\"1\" class=\"dataframe\">\n",
       "  <thead>\n",
       "    <tr style=\"text-align: right;\">\n",
       "      <th></th>\n",
       "      <th>Sunday</th>\n",
       "      <th>Monday</th>\n",
       "      <th>Tuesday</th>\n",
       "      <th>Wednesday</th>\n",
       "      <th>Thursday</th>\n",
       "    </tr>\n",
       "  </thead>\n",
       "  <tbody>\n",
       "    <tr>\n",
       "      <th>Efrat</th>\n",
       "      <td>9.60</td>\n",
       "      <td>8.6</td>\n",
       "      <td>12.00</td>\n",
       "      <td>9.1</td>\n",
       "      <td>9.1</td>\n",
       "    </tr>\n",
       "    <tr>\n",
       "      <th>Liel</th>\n",
       "      <td>5.25</td>\n",
       "      <td>7.7</td>\n",
       "      <td>6.25</td>\n",
       "      <td>8.2</td>\n",
       "      <td>8.2</td>\n",
       "    </tr>\n",
       "    <tr>\n",
       "      <th>Moshe</th>\n",
       "      <td>NaN</td>\n",
       "      <td>NaN</td>\n",
       "      <td>NaN</td>\n",
       "      <td>NaN</td>\n",
       "      <td>NaN</td>\n",
       "    </tr>\n",
       "  </tbody>\n",
       "</table>\n",
       "</div>"
      ],
      "text/plain": [
       "       Sunday  Monday  Tuesday  Wednesday  Thursday\n",
       "Efrat    9.60     8.6    12.00        9.1       9.1\n",
       "Liel     5.25     7.7     6.25        8.2       8.2\n",
       "Moshe     NaN     NaN      NaN        NaN       NaN"
      ]
     },
     "metadata": {},
     "output_type": "display_data"
    },
    {
     "data": {
      "text/html": [
       "<div>\n",
       "<style scoped>\n",
       "    .dataframe tbody tr th:only-of-type {\n",
       "        vertical-align: middle;\n",
       "    }\n",
       "\n",
       "    .dataframe tbody tr th {\n",
       "        vertical-align: top;\n",
       "    }\n",
       "\n",
       "    .dataframe thead th {\n",
       "        text-align: right;\n",
       "    }\n",
       "</style>\n",
       "<table border=\"1\" class=\"dataframe\">\n",
       "  <thead>\n",
       "    <tr style=\"text-align: right;\">\n",
       "      <th></th>\n",
       "      <th>Sunday</th>\n",
       "      <th>Monday</th>\n",
       "      <th>Tuesday</th>\n",
       "      <th>Wednesday</th>\n",
       "      <th>Thursday</th>\n",
       "    </tr>\n",
       "  </thead>\n",
       "  <tbody>\n",
       "    <tr>\n",
       "      <th>Efrat</th>\n",
       "      <td>9.600</td>\n",
       "      <td>8.60</td>\n",
       "      <td>12.000</td>\n",
       "      <td>9.10</td>\n",
       "      <td>9.10</td>\n",
       "    </tr>\n",
       "    <tr>\n",
       "      <th>Liel</th>\n",
       "      <td>5.250</td>\n",
       "      <td>7.70</td>\n",
       "      <td>6.250</td>\n",
       "      <td>8.20</td>\n",
       "      <td>8.20</td>\n",
       "    </tr>\n",
       "    <tr>\n",
       "      <th>Moshe</th>\n",
       "      <td>7.425</td>\n",
       "      <td>8.15</td>\n",
       "      <td>9.125</td>\n",
       "      <td>8.65</td>\n",
       "      <td>8.65</td>\n",
       "    </tr>\n",
       "  </tbody>\n",
       "</table>\n",
       "</div>"
      ],
      "text/plain": [
       "       Sunday  Monday  Tuesday  Wednesday  Thursday\n",
       "Efrat   9.600    8.60   12.000       9.10      9.10\n",
       "Liel    5.250    7.70    6.250       8.20      8.20\n",
       "Moshe   7.425    8.15    9.125       8.65      8.65"
      ]
     },
     "execution_count": 24,
     "metadata": {},
     "output_type": "execute_result"
    }
   ],
   "source": [
    "# Indexes can be changed:\n",
    "\n",
    "# Change index name\n",
    "df.index.name = 'Name'\n",
    "display(df)\n",
    "\n",
    "# Convert the index to a regular column (and add new range index)\n",
    "df.reset_index(inplace=True)\n",
    "display(df)\n",
    "\n",
    "# Change index back to names\n",
    "df.set_index('Name', inplace=True)\n",
    "display(df)\n",
    "\n",
    "# Delete index name\n",
    "df.index.name = None\n",
    "\n",
    "# Add new entry to the index\n",
    "with_moshe = df.reindex(['Efrat', 'Liel', 'Moshe'])\n",
    "display(with_moshe)\n",
    "\n",
    "# Set Moshe's values to the mean\n",
    "with_moshe.fillna(df.mean())"
   ]
  },
  {
   "cell_type": "markdown",
   "metadata": {},
   "source": [
    "## Aggregations"
   ]
  },
  {
   "cell_type": "code",
   "execution_count": 25,
   "metadata": {},
   "outputs": [
    {
     "data": {
      "text/plain": [
       "<matplotlib.axes._subplots.AxesSubplot at 0x11f1bdd50>"
      ]
     },
     "execution_count": 25,
     "metadata": {},
     "output_type": "execute_result"
    },
    {
     "data": {
      "image/png": "[encoded data removed]",
      "text/plain": [
       "<Figure size 432x288 with 1 Axes>"
      ]
     },
     "metadata": {},
     "output_type": "display_data"
    }
   ],
   "source": [
    "# Plot a pie chart of the total number of hours per employee.\n",
    "\n",
    "df.sum(axis=1).rename('hours').plot.pie()"
   ]
  },
  {
   "cell_type": "code",
   "execution_count": 26,
   "metadata": {},
   "outputs": [
    {
     "data": {
      "text/plain": [
       "Teacher       47.40\n",
       "Programmer    50.00\n",
       "Lawyer        64.00\n",
       "CEO           68.15\n",
       "Name: hours, dtype: float64"
      ]
     },
     "execution_count": 26,
     "metadata": {},
     "output_type": "execute_result"
    }
   ],
   "source": [
    "# Number of working hours per occupation\n",
    "\n",
    "occupation_hours = pd.Series({'Teacher': 37.4, 'Programmer': 40,\n",
    "                              'Lawyer': 54, 'CEO': 58.15},\n",
    "                              name='hours')\n",
    "occupation_hours + 10"
   ]
  },
  {
   "cell_type": "code",
   "execution_count": 27,
   "metadata": {},
   "outputs": [
    {
     "data": {
      "text/plain": [
       "'Teacher'"
      ]
     },
     "execution_count": 27,
     "metadata": {},
     "output_type": "execute_result"
    }
   ],
   "source": [
    "occupation_hours.idxmin()"
   ]
  },
  {
   "cell_type": "markdown",
   "metadata": {},
   "source": [
    "*Use the hours series to find the most probable occupation of Liel and Efrat.*"
   ]
  },
  {
   "cell_type": "code",
   "execution_count": 28,
   "metadata": {},
   "outputs": [],
   "source": [
    "def occupation(worker):\n",
    "    return (occupation_hours - worker).abs().idxmin()"
   ]
  },
  {
   "cell_type": "code",
   "execution_count": 29,
   "metadata": {},
   "outputs": [
    {
     "data": {
      "text/plain": [
       "Efrat     Lawyer\n",
       "Liel     Teacher\n",
       "dtype: object"
      ]
     },
     "execution_count": 29,
     "metadata": {},
     "output_type": "execute_result"
    }
   ],
   "source": [
    "df.sum(axis=1).apply(occupation)"
   ]
  },
  {
   "cell_type": "markdown",
   "metadata": {},
   "source": [
    "## Grouping"
   ]
  },
  {
   "cell_type": "code",
   "execution_count": 30,
   "metadata": {},
   "outputs": [],
   "source": [
    "# Add some workers to the table\n",
    "\n",
    "for name in ['Haim', 'Moshe', 'Tal', 'Tali', 'Yoram']:\n",
    "    df.loc[name] = np.random.uniform(7, 10) + np.random.uniform(0, 2, size=(5,))"
   ]
  },
  {
   "cell_type": "code",
   "execution_count": 31,
   "metadata": {},
   "outputs": [
    {
     "data": {
      "text/html": [
       "<div>\n",
       "<style scoped>\n",
       "    .dataframe tbody tr th:only-of-type {\n",
       "        vertical-align: middle;\n",
       "    }\n",
       "\n",
       "    .dataframe tbody tr th {\n",
       "        vertical-align: top;\n",
       "    }\n",
       "\n",
       "    .dataframe thead th {\n",
       "        text-align: right;\n",
       "    }\n",
       "</style>\n",
       "<table border=\"1\" class=\"dataframe\">\n",
       "  <thead>\n",
       "    <tr style=\"text-align: right;\">\n",
       "      <th></th>\n",
       "      <th>Sunday</th>\n",
       "      <th>Monday</th>\n",
       "      <th>Tuesday</th>\n",
       "      <th>Wednesday</th>\n",
       "      <th>Thursday</th>\n",
       "      <th>Occupation</th>\n",
       "    </tr>\n",
       "  </thead>\n",
       "  <tbody>\n",
       "    <tr>\n",
       "      <th>Efrat</th>\n",
       "      <td>9.600000</td>\n",
       "      <td>8.600000</td>\n",
       "      <td>12.000000</td>\n",
       "      <td>9.100000</td>\n",
       "      <td>9.100000</td>\n",
       "      <td>Lawyer</td>\n",
       "    </tr>\n",
       "    <tr>\n",
       "      <th>Liel</th>\n",
       "      <td>5.250000</td>\n",
       "      <td>7.700000</td>\n",
       "      <td>6.250000</td>\n",
       "      <td>8.200000</td>\n",
       "      <td>8.200000</td>\n",
       "      <td>Teacher</td>\n",
       "    </tr>\n",
       "    <tr>\n",
       "      <th>Haim</th>\n",
       "      <td>8.870243</td>\n",
       "      <td>8.071883</td>\n",
       "      <td>9.715826</td>\n",
       "      <td>9.567113</td>\n",
       "      <td>9.378255</td>\n",
       "      <td>Programmer</td>\n",
       "    </tr>\n",
       "    <tr>\n",
       "      <th>Moshe</th>\n",
       "      <td>8.163600</td>\n",
       "      <td>9.626015</td>\n",
       "      <td>8.338714</td>\n",
       "      <td>8.272236</td>\n",
       "      <td>8.812766</td>\n",
       "      <td>Programmer</td>\n",
       "    </tr>\n",
       "    <tr>\n",
       "      <th>Tal</th>\n",
       "      <td>8.560878</td>\n",
       "      <td>9.637665</td>\n",
       "      <td>9.060387</td>\n",
       "      <td>10.380310</td>\n",
       "      <td>9.404438</td>\n",
       "      <td>Lawyer</td>\n",
       "    </tr>\n",
       "    <tr>\n",
       "      <th>Tali</th>\n",
       "      <td>8.752606</td>\n",
       "      <td>7.755453</td>\n",
       "      <td>9.139045</td>\n",
       "      <td>8.244244</td>\n",
       "      <td>9.684233</td>\n",
       "      <td>Programmer</td>\n",
       "    </tr>\n",
       "    <tr>\n",
       "      <th>Yoram</th>\n",
       "      <td>11.326367</td>\n",
       "      <td>10.914422</td>\n",
       "      <td>10.668693</td>\n",
       "      <td>9.869022</td>\n",
       "      <td>11.402540</td>\n",
       "      <td>Lawyer</td>\n",
       "    </tr>\n",
       "  </tbody>\n",
       "</table>\n",
       "</div>"
      ],
      "text/plain": [
       "          Sunday     Monday    Tuesday  Wednesday   Thursday  Occupation\n",
       "Efrat   9.600000   8.600000  12.000000   9.100000   9.100000      Lawyer\n",
       "Liel    5.250000   7.700000   6.250000   8.200000   8.200000     Teacher\n",
       "Haim    8.870243   8.071883   9.715826   9.567113   9.378255  Programmer\n",
       "Moshe   8.163600   9.626015   8.338714   8.272236   8.812766  Programmer\n",
       "Tal     8.560878   9.637665   9.060387  10.380310   9.404438      Lawyer\n",
       "Tali    8.752606   7.755453   9.139045   8.244244   9.684233  Programmer\n",
       "Yoram  11.326367  10.914422  10.668693   9.869022  11.402540      Lawyer"
      ]
     },
     "execution_count": 31,
     "metadata": {},
     "output_type": "execute_result"
    }
   ],
   "source": [
    "# Add an occupation column (using the example before)\n",
    "\n",
    "df['Occupation'] = df.sum(axis=1).apply(occupation)\n",
    "df"
   ]
  },
  {
   "cell_type": "code",
   "execution_count": 32,
   "metadata": {},
   "outputs": [
    {
     "data": {
      "text/html": [
       "<div>\n",
       "<style scoped>\n",
       "    .dataframe tbody tr th:only-of-type {\n",
       "        vertical-align: middle;\n",
       "    }\n",
       "\n",
       "    .dataframe tbody tr th {\n",
       "        vertical-align: top;\n",
       "    }\n",
       "\n",
       "    .dataframe thead th {\n",
       "        text-align: right;\n",
       "    }\n",
       "</style>\n",
       "<table border=\"1\" class=\"dataframe\">\n",
       "  <thead>\n",
       "    <tr style=\"text-align: right;\">\n",
       "      <th></th>\n",
       "      <th>Monday</th>\n",
       "      <th>Sunday</th>\n",
       "      <th>Thursday</th>\n",
       "      <th>Tuesday</th>\n",
       "      <th>Wednesday</th>\n",
       "    </tr>\n",
       "    <tr>\n",
       "      <th>Occupation</th>\n",
       "      <th></th>\n",
       "      <th></th>\n",
       "      <th></th>\n",
       "      <th></th>\n",
       "      <th></th>\n",
       "    </tr>\n",
       "  </thead>\n",
       "  <tbody>\n",
       "    <tr>\n",
       "      <th>Lawyer</th>\n",
       "      <td>Yoram</td>\n",
       "      <td>Yoram</td>\n",
       "      <td>Yoram</td>\n",
       "      <td>Efrat</td>\n",
       "      <td>Tal</td>\n",
       "    </tr>\n",
       "    <tr>\n",
       "      <th>Programmer</th>\n",
       "      <td>Moshe</td>\n",
       "      <td>Haim</td>\n",
       "      <td>Tali</td>\n",
       "      <td>Haim</td>\n",
       "      <td>Haim</td>\n",
       "    </tr>\n",
       "    <tr>\n",
       "      <th>Teacher</th>\n",
       "      <td>Liel</td>\n",
       "      <td>Liel</td>\n",
       "      <td>Liel</td>\n",
       "      <td>Liel</td>\n",
       "      <td>Liel</td>\n",
       "    </tr>\n",
       "  </tbody>\n",
       "</table>\n",
       "</div>"
      ],
      "text/plain": [
       "           Monday Sunday Thursday Tuesday Wednesday\n",
       "Occupation                                         \n",
       "Lawyer      Yoram  Yoram    Yoram   Efrat       Tal\n",
       "Programmer  Moshe   Haim     Tali    Haim      Haim\n",
       "Teacher      Liel   Liel     Liel    Liel      Liel"
      ]
     },
     "execution_count": 32,
     "metadata": {},
     "output_type": "execute_result"
    }
   ],
   "source": [
    "# Print the name of the worker that spent the most hours per day per occupation\n",
    "\n",
    "workhours = df.groupby('Occupation')\n",
    "workhours.idxmax()"
   ]
  },
  {
   "cell_type": "code",
   "execution_count": 33,
   "metadata": {},
   "outputs": [
    {
     "data": {
      "text/plain": [
       "{'Lawyer': Index(['Efrat', 'Tal', 'Yoram'], dtype='object'),\n",
       " 'Programmer': Index(['Haim', 'Moshe', 'Tali'], dtype='object'),\n",
       " 'Teacher': Index(['Liel'], dtype='object')}"
      ]
     },
     "execution_count": 33,
     "metadata": {},
     "output_type": "execute_result"
    }
   ],
   "source": [
    "# Show the groupby groups\n",
    "\n",
    "workhours.groups"
   ]
  },
  {
   "cell_type": "code",
   "execution_count": 34,
   "metadata": {},
   "outputs": [
    {
     "data": {
      "text/html": [
       "<div>\n",
       "<style scoped>\n",
       "    .dataframe tbody tr th:only-of-type {\n",
       "        vertical-align: middle;\n",
       "    }\n",
       "\n",
       "    .dataframe tbody tr th {\n",
       "        vertical-align: top;\n",
       "    }\n",
       "\n",
       "    .dataframe thead th {\n",
       "        text-align: right;\n",
       "    }\n",
       "</style>\n",
       "<table border=\"1\" class=\"dataframe\">\n",
       "  <thead>\n",
       "    <tr style=\"text-align: right;\">\n",
       "      <th></th>\n",
       "      <th>Monday</th>\n",
       "      <th>Sunday</th>\n",
       "      <th>Thursday</th>\n",
       "      <th>Tuesday</th>\n",
       "      <th>Wednesday</th>\n",
       "    </tr>\n",
       "  </thead>\n",
       "  <tbody>\n",
       "    <tr>\n",
       "      <th>Haim</th>\n",
       "      <td>8.071883</td>\n",
       "      <td>8.870243</td>\n",
       "      <td>9.378255</td>\n",
       "      <td>9.715826</td>\n",
       "      <td>9.567113</td>\n",
       "    </tr>\n",
       "    <tr>\n",
       "      <th>Moshe</th>\n",
       "      <td>9.626015</td>\n",
       "      <td>8.163600</td>\n",
       "      <td>8.812766</td>\n",
       "      <td>8.338714</td>\n",
       "      <td>8.272236</td>\n",
       "    </tr>\n",
       "    <tr>\n",
       "      <th>Tali</th>\n",
       "      <td>7.755453</td>\n",
       "      <td>8.752606</td>\n",
       "      <td>9.684233</td>\n",
       "      <td>9.139045</td>\n",
       "      <td>8.244244</td>\n",
       "    </tr>\n",
       "  </tbody>\n",
       "</table>\n",
       "</div>"
      ],
      "text/plain": [
       "         Monday    Sunday  Thursday   Tuesday  Wednesday\n",
       "Haim   8.071883  8.870243  9.378255  9.715826   9.567113\n",
       "Moshe  9.626015  8.163600  8.812766  8.338714   8.272236\n",
       "Tali   7.755453  8.752606  9.684233  9.139045   8.244244"
      ]
     },
     "execution_count": 34,
     "metadata": {},
     "output_type": "execute_result"
    }
   ],
   "source": [
    "# Show all rows of the group 'Programmer'\n",
    "workhours.get_group('Programmer')"
   ]
  },
  {
   "cell_type": "code",
   "execution_count": 35,
   "metadata": {},
   "outputs": [
    {
     "data": {
      "text/html": [
       "<div>\n",
       "<style scoped>\n",
       "    .dataframe tbody tr th:only-of-type {\n",
       "        vertical-align: middle;\n",
       "    }\n",
       "\n",
       "    .dataframe tbody tr th {\n",
       "        vertical-align: top;\n",
       "    }\n",
       "\n",
       "    .dataframe thead tr th {\n",
       "        text-align: left;\n",
       "    }\n",
       "\n",
       "    .dataframe thead tr:last-of-type th {\n",
       "        text-align: right;\n",
       "    }\n",
       "</style>\n",
       "<table border=\"1\" class=\"dataframe\">\n",
       "  <thead>\n",
       "    <tr>\n",
       "      <th></th>\n",
       "      <th colspan=\"3\" halign=\"left\">Sunday</th>\n",
       "      <th colspan=\"3\" halign=\"left\">Monday</th>\n",
       "      <th colspan=\"3\" halign=\"left\">Tuesday</th>\n",
       "      <th colspan=\"3\" halign=\"left\">Wednesday</th>\n",
       "      <th colspan=\"3\" halign=\"left\">Thursday</th>\n",
       "    </tr>\n",
       "    <tr>\n",
       "      <th></th>\n",
       "      <th>sum</th>\n",
       "      <th>mean</th>\n",
       "      <th>amax</th>\n",
       "      <th>sum</th>\n",
       "      <th>mean</th>\n",
       "      <th>amax</th>\n",
       "      <th>sum</th>\n",
       "      <th>mean</th>\n",
       "      <th>amax</th>\n",
       "      <th>sum</th>\n",
       "      <th>mean</th>\n",
       "      <th>amax</th>\n",
       "      <th>sum</th>\n",
       "      <th>mean</th>\n",
       "      <th>amax</th>\n",
       "    </tr>\n",
       "    <tr>\n",
       "      <th>Occupation</th>\n",
       "      <th></th>\n",
       "      <th></th>\n",
       "      <th></th>\n",
       "      <th></th>\n",
       "      <th></th>\n",
       "      <th></th>\n",
       "      <th></th>\n",
       "      <th></th>\n",
       "      <th></th>\n",
       "      <th></th>\n",
       "      <th></th>\n",
       "      <th></th>\n",
       "      <th></th>\n",
       "      <th></th>\n",
       "      <th></th>\n",
       "    </tr>\n",
       "  </thead>\n",
       "  <tbody>\n",
       "    <tr>\n",
       "      <th>Lawyer</th>\n",
       "      <td>29.487245</td>\n",
       "      <td>9.829082</td>\n",
       "      <td>11.326367</td>\n",
       "      <td>29.152087</td>\n",
       "      <td>9.717362</td>\n",
       "      <td>10.914422</td>\n",
       "      <td>31.729080</td>\n",
       "      <td>10.576360</td>\n",
       "      <td>12.000000</td>\n",
       "      <td>29.349332</td>\n",
       "      <td>9.783111</td>\n",
       "      <td>10.380310</td>\n",
       "      <td>29.906978</td>\n",
       "      <td>9.968993</td>\n",
       "      <td>11.402540</td>\n",
       "    </tr>\n",
       "    <tr>\n",
       "      <th>Programmer</th>\n",
       "      <td>25.786449</td>\n",
       "      <td>8.595483</td>\n",
       "      <td>8.870243</td>\n",
       "      <td>25.453351</td>\n",
       "      <td>8.484450</td>\n",
       "      <td>9.626015</td>\n",
       "      <td>27.193585</td>\n",
       "      <td>9.064528</td>\n",
       "      <td>9.715826</td>\n",
       "      <td>26.083593</td>\n",
       "      <td>8.694531</td>\n",
       "      <td>9.567113</td>\n",
       "      <td>27.875254</td>\n",
       "      <td>9.291751</td>\n",
       "      <td>9.684233</td>\n",
       "    </tr>\n",
       "    <tr>\n",
       "      <th>Teacher</th>\n",
       "      <td>5.250000</td>\n",
       "      <td>5.250000</td>\n",
       "      <td>5.250000</td>\n",
       "      <td>7.700000</td>\n",
       "      <td>7.700000</td>\n",
       "      <td>7.700000</td>\n",
       "      <td>6.250000</td>\n",
       "      <td>6.250000</td>\n",
       "      <td>6.250000</td>\n",
       "      <td>8.200000</td>\n",
       "      <td>8.200000</td>\n",
       "      <td>8.200000</td>\n",
       "      <td>8.200000</td>\n",
       "      <td>8.200000</td>\n",
       "      <td>8.200000</td>\n",
       "    </tr>\n",
       "  </tbody>\n",
       "</table>\n",
       "</div>"
      ],
      "text/plain": [
       "               Sunday                          Monday                       \\\n",
       "                  sum      mean       amax        sum      mean       amax   \n",
       "Occupation                                                                   \n",
       "Lawyer      29.487245  9.829082  11.326367  29.152087  9.717362  10.914422   \n",
       "Programmer  25.786449  8.595483   8.870243  25.453351  8.484450   9.626015   \n",
       "Teacher      5.250000  5.250000   5.250000   7.700000  7.700000   7.700000   \n",
       "\n",
       "              Tuesday                        Wednesday                       \\\n",
       "                  sum       mean       amax        sum      mean       amax   \n",
       "Occupation                                                                    \n",
       "Lawyer      31.729080  10.576360  12.000000  29.349332  9.783111  10.380310   \n",
       "Programmer  27.193585   9.064528   9.715826  26.083593  8.694531   9.567113   \n",
       "Teacher      6.250000   6.250000   6.250000   8.200000  8.200000   8.200000   \n",
       "\n",
       "             Thursday                       \n",
       "                  sum      mean       amax  \n",
       "Occupation                                  \n",
       "Lawyer      29.906978  9.968993  11.402540  \n",
       "Programmer  27.875254  9.291751   9.684233  \n",
       "Teacher      8.200000  8.200000   8.200000  "
      ]
     },
     "execution_count": 35,
     "metadata": {},
     "output_type": "execute_result"
    }
   ],
   "source": [
    "# Aggregate the groupby:\n",
    "\n",
    "dfagg = workhours.agg([np.sum, np.mean, np.max])\n",
    "dfagg"
   ]
  },
  {
   "cell_type": "code",
   "execution_count": 36,
   "metadata": {},
   "outputs": [
    {
     "data": {
      "text/plain": [
       "<matplotlib.axes._subplots.AxesSubplot at 0x11ae276d0>"
      ]
     },
     "execution_count": 36,
     "metadata": {},
     "output_type": "execute_result"
    },
    {
     "data": {
      "image/png": "[encoded data removed]",
      "text/plain": [
       "<Figure size 432x288 with 1 Axes>"
      ]
     },
     "metadata": {
      "needs_background": "light"
     },
     "output_type": "display_data"
    }
   ],
   "source": [
    "dfagg.transpose().plot.bar(stacked=True)"
   ]
  },
  {
   "cell_type": "markdown",
   "metadata": {},
   "source": [
    "## MultiIndex"
   ]
  },
  {
   "cell_type": "code",
   "execution_count": 37,
   "metadata": {},
   "outputs": [
    {
     "data": {
      "text/plain": [
       "MultiIndex(levels=[['Sunday', 'Monday', 'Tuesday', 'Wednesday', 'Thursday'], ['sum', 'mean', 'amax']],\n",
       "           labels=[[0, 0, 0, 1, 1, 1, 2, 2, 2, 3, 3, 3, 4, 4, 4], [0, 1, 2, 0, 1, 2, 0, 1, 2, 0, 1, 2, 0, 1, 2]])"
      ]
     },
     "execution_count": 37,
     "metadata": {},
     "output_type": "execute_result"
    }
   ],
   "source": [
    "# What is the index of transpose of dfagg?\n",
    "workhours = dfagg.transpose()\n",
    "workhours.index"
   ]
  },
  {
   "cell_type": "code",
   "execution_count": 38,
   "metadata": {},
   "outputs": [
    {
     "data": {
      "text/plain": [
       "Sunday     sum     25.786449\n",
       "           mean     8.595483\n",
       "           amax     8.870243\n",
       "Monday     sum     25.453351\n",
       "           mean     8.484450\n",
       "           amax     9.626015\n",
       "Tuesday    sum     27.193585\n",
       "           mean     9.064528\n",
       "           amax     9.715826\n",
       "Wednesday  sum     26.083593\n",
       "           mean     8.694531\n",
       "           amax     9.567113\n",
       "Thursday   sum     27.875254\n",
       "           mean     9.291751\n",
       "           amax     9.684233\n",
       "Name: Programmer, dtype: float64"
      ]
     },
     "execution_count": 38,
     "metadata": {},
     "output_type": "execute_result"
    }
   ],
   "source": [
    "# Selecting a column (Series) keeps the index attached to it.\n",
    "workhours['Programmer']"
   ]
  },
  {
   "cell_type": "code",
   "execution_count": 39,
   "metadata": {},
   "outputs": [
    {
     "data": {
      "text/plain": [
       "amax     9.492686\n",
       "mean     8.826149\n",
       "sum     26.478446\n",
       "Name: Programmer, dtype: float64"
      ]
     },
     "execution_count": 39,
     "metadata": {},
     "output_type": "execute_result"
    }
   ],
   "source": [
    "# groupby can also work on multi-indexed series\n",
    "# (name could be also used instead of level=1)\n",
    "\n",
    "workhours['Programmer'].groupby(level=1).mean()"
   ]
  },
  {
   "cell_type": "code",
   "execution_count": 40,
   "metadata": {},
   "outputs": [
    {
     "data": {
      "text/html": [
       "<div>\n",
       "<style scoped>\n",
       "    .dataframe tbody tr th:only-of-type {\n",
       "        vertical-align: middle;\n",
       "    }\n",
       "\n",
       "    .dataframe tbody tr th {\n",
       "        vertical-align: top;\n",
       "    }\n",
       "\n",
       "    .dataframe thead th {\n",
       "        text-align: right;\n",
       "    }\n",
       "</style>\n",
       "<table border=\"1\" class=\"dataframe\">\n",
       "  <thead>\n",
       "    <tr style=\"text-align: right;\">\n",
       "      <th></th>\n",
       "      <th>Occupation</th>\n",
       "      <th>Lawyer</th>\n",
       "      <th>Programmer</th>\n",
       "      <th>Teacher</th>\n",
       "    </tr>\n",
       "  </thead>\n",
       "  <tbody>\n",
       "    <tr>\n",
       "      <th rowspan=\"2\" valign=\"top\">Sunday</th>\n",
       "      <th>sum</th>\n",
       "      <td>29.487245</td>\n",
       "      <td>25.786449</td>\n",
       "      <td>5.25</td>\n",
       "    </tr>\n",
       "    <tr>\n",
       "      <th>mean</th>\n",
       "      <td>9.829082</td>\n",
       "      <td>8.595483</td>\n",
       "      <td>5.25</td>\n",
       "    </tr>\n",
       "  </tbody>\n",
       "</table>\n",
       "</div>"
      ],
      "text/plain": [
       "Occupation      Lawyer  Programmer  Teacher\n",
       "Sunday sum   29.487245   25.786449     5.25\n",
       "       mean   9.829082    8.595483     5.25"
      ]
     },
     "execution_count": 40,
     "metadata": {},
     "output_type": "execute_result"
    }
   ],
   "source": [
    "#\n",
    "# MultiIndexes can be queried together or one by one\n",
    "#\n",
    "workhours.loc[[('Sunday', 'sum'), ('Sunday', 'mean')]]"
   ]
  },
  {
   "cell_type": "code",
   "execution_count": 26,
   "metadata": {},
   "outputs": [
    {
     "data": {
      "text/html": [
       "<div>\n",
       "<style scoped>\n",
       "    .dataframe tbody tr th:only-of-type {\n",
       "        vertical-align: middle;\n",
       "    }\n",
       "\n",
       "    .dataframe tbody tr th {\n",
       "        vertical-align: top;\n",
       "    }\n",
       "\n",
       "    .dataframe thead th {\n",
       "        text-align: right;\n",
       "    }\n",
       "</style>\n",
       "<table border=\"1\" class=\"dataframe\">\n",
       "  <thead>\n",
       "    <tr style=\"text-align: right;\">\n",
       "      <th></th>\n",
       "      <th>Occupation</th>\n",
       "      <th>Lawyer</th>\n",
       "      <th>Programmer</th>\n",
       "      <th>Teacher</th>\n",
       "    </tr>\n",
       "    <tr>\n",
       "      <th>Weekday</th>\n",
       "      <th>Aggregations</th>\n",
       "      <th></th>\n",
       "      <th></th>\n",
       "      <th></th>\n",
       "    </tr>\n",
       "  </thead>\n",
       "  <tbody>\n",
       "    <tr>\n",
       "      <th rowspan=\"3\" valign=\"top\">Sunday</th>\n",
       "      <th>sum</th>\n",
       "      <td>30.152567</td>\n",
       "      <td>25.074323</td>\n",
       "      <td>5.25</td>\n",
       "    </tr>\n",
       "    <tr>\n",
       "      <th>mean</th>\n",
       "      <td>10.050856</td>\n",
       "      <td>8.358108</td>\n",
       "      <td>5.25</td>\n",
       "    </tr>\n",
       "    <tr>\n",
       "      <th>amax</th>\n",
       "      <td>11.241555</td>\n",
       "      <td>8.518436</td>\n",
       "      <td>5.25</td>\n",
       "    </tr>\n",
       "    <tr>\n",
       "      <th rowspan=\"3\" valign=\"top\">Monday</th>\n",
       "      <th>sum</th>\n",
       "      <td>28.301938</td>\n",
       "      <td>26.033943</td>\n",
       "      <td>7.70</td>\n",
       "    </tr>\n",
       "    <tr>\n",
       "      <th>mean</th>\n",
       "      <td>9.433979</td>\n",
       "      <td>8.677981</td>\n",
       "      <td>7.70</td>\n",
       "    </tr>\n",
       "    <tr>\n",
       "      <th>amax</th>\n",
       "      <td>10.711496</td>\n",
       "      <td>8.879370</td>\n",
       "      <td>7.70</td>\n",
       "    </tr>\n",
       "    <tr>\n",
       "      <th rowspan=\"3\" valign=\"top\">Tuesday</th>\n",
       "      <th>sum</th>\n",
       "      <td>32.665680</td>\n",
       "      <td>26.645225</td>\n",
       "      <td>6.25</td>\n",
       "    </tr>\n",
       "    <tr>\n",
       "      <th>mean</th>\n",
       "      <td>10.888560</td>\n",
       "      <td>8.881742</td>\n",
       "      <td>6.25</td>\n",
       "    </tr>\n",
       "    <tr>\n",
       "      <th>amax</th>\n",
       "      <td>12.000000</td>\n",
       "      <td>9.139891</td>\n",
       "      <td>6.25</td>\n",
       "    </tr>\n",
       "    <tr>\n",
       "      <th rowspan=\"3\" valign=\"top\">Wednesday</th>\n",
       "      <th>sum</th>\n",
       "      <td>30.247225</td>\n",
       "      <td>25.129761</td>\n",
       "      <td>8.20</td>\n",
       "    </tr>\n",
       "    <tr>\n",
       "      <th>mean</th>\n",
       "      <td>10.082408</td>\n",
       "      <td>8.376587</td>\n",
       "      <td>8.20</td>\n",
       "    </tr>\n",
       "    <tr>\n",
       "      <th>amax</th>\n",
       "      <td>11.379077</td>\n",
       "      <td>9.620265</td>\n",
       "      <td>8.20</td>\n",
       "    </tr>\n",
       "    <tr>\n",
       "      <th rowspan=\"3\" valign=\"top\">Thursday</th>\n",
       "      <th>sum</th>\n",
       "      <td>29.007810</td>\n",
       "      <td>26.038249</td>\n",
       "      <td>8.20</td>\n",
       "    </tr>\n",
       "    <tr>\n",
       "      <th>mean</th>\n",
       "      <td>9.669270</td>\n",
       "      <td>8.679416</td>\n",
       "      <td>8.20</td>\n",
       "    </tr>\n",
       "    <tr>\n",
       "      <th>amax</th>\n",
       "      <td>10.528601</td>\n",
       "      <td>9.562895</td>\n",
       "      <td>8.20</td>\n",
       "    </tr>\n",
       "  </tbody>\n",
       "</table>\n",
       "</div>"
      ],
      "text/plain": [
       "Occupation                 Lawyer  Programmer  Teacher\n",
       "Weekday   Aggregations                                \n",
       "Sunday    sum           30.152567   25.074323     5.25\n",
       "          mean          10.050856    8.358108     5.25\n",
       "          amax          11.241555    8.518436     5.25\n",
       "Monday    sum           28.301938   26.033943     7.70\n",
       "          mean           9.433979    8.677981     7.70\n",
       "          amax          10.711496    8.879370     7.70\n",
       "Tuesday   sum           32.665680   26.645225     6.25\n",
       "          mean          10.888560    8.881742     6.25\n",
       "          amax          12.000000    9.139891     6.25\n",
       "Wednesday sum           30.247225   25.129761     8.20\n",
       "          mean          10.082408    8.376587     8.20\n",
       "          amax          11.379077    9.620265     8.20\n",
       "Thursday  sum           29.007810   26.038249     8.20\n",
       "          mean           9.669270    8.679416     8.20\n",
       "          amax          10.528601    9.562895     8.20"
      ]
     },
     "execution_count": 26,
     "metadata": {},
     "output_type": "execute_result"
    }
   ],
   "source": [
    "# Indexes can be renamed\n",
    "\n",
    "workhours.index.rename(['Weekday', 'Aggregations'], inplace=True)\n",
    "workhours"
   ]
  },
  {
   "cell_type": "code",
   "execution_count": 27,
   "metadata": {},
   "outputs": [
    {
     "data": {
      "text/html": [
       "<div>\n",
       "<style scoped>\n",
       "    .dataframe tbody tr th:only-of-type {\n",
       "        vertical-align: middle;\n",
       "    }\n",
       "\n",
       "    .dataframe tbody tr th {\n",
       "        vertical-align: top;\n",
       "    }\n",
       "\n",
       "    .dataframe thead th {\n",
       "        text-align: right;\n",
       "    }\n",
       "</style>\n",
       "<table border=\"1\" class=\"dataframe\">\n",
       "  <thead>\n",
       "    <tr style=\"text-align: right;\">\n",
       "      <th></th>\n",
       "      <th>Sunday</th>\n",
       "      <th>Monday</th>\n",
       "      <th>Tuesday</th>\n",
       "      <th>Wednesday</th>\n",
       "      <th>Thursday</th>\n",
       "      <th>Occupation</th>\n",
       "    </tr>\n",
       "    <tr>\n",
       "      <th>Name</th>\n",
       "      <th></th>\n",
       "      <th></th>\n",
       "      <th></th>\n",
       "      <th></th>\n",
       "      <th></th>\n",
       "      <th></th>\n",
       "    </tr>\n",
       "  </thead>\n",
       "  <tbody>\n",
       "    <tr>\n",
       "      <th>Efrat</th>\n",
       "      <td>9.600000</td>\n",
       "      <td>8.600000</td>\n",
       "      <td>12.000000</td>\n",
       "      <td>9.100000</td>\n",
       "      <td>9.100000</td>\n",
       "      <td>Lawyer</td>\n",
       "    </tr>\n",
       "    <tr>\n",
       "      <th>Liel</th>\n",
       "      <td>5.250000</td>\n",
       "      <td>7.700000</td>\n",
       "      <td>6.250000</td>\n",
       "      <td>8.200000</td>\n",
       "      <td>8.200000</td>\n",
       "      <td>Teacher</td>\n",
       "    </tr>\n",
       "    <tr>\n",
       "      <th>Haim</th>\n",
       "      <td>9.311012</td>\n",
       "      <td>8.990442</td>\n",
       "      <td>9.848615</td>\n",
       "      <td>9.768149</td>\n",
       "      <td>9.379209</td>\n",
       "      <td>Lawyer</td>\n",
       "    </tr>\n",
       "    <tr>\n",
       "      <th>Moshe</th>\n",
       "      <td>11.241555</td>\n",
       "      <td>10.711496</td>\n",
       "      <td>10.817065</td>\n",
       "      <td>11.379077</td>\n",
       "      <td>10.528601</td>\n",
       "      <td>Lawyer</td>\n",
       "    </tr>\n",
       "    <tr>\n",
       "      <th>Tal</th>\n",
       "      <td>8.390443</td>\n",
       "      <td>8.879370</td>\n",
       "      <td>8.976997</td>\n",
       "      <td>7.778684</td>\n",
       "      <td>9.037238</td>\n",
       "      <td>Programmer</td>\n",
       "    </tr>\n",
       "  </tbody>\n",
       "</table>\n",
       "</div>"
      ],
      "text/plain": [
       "          Sunday     Monday    Tuesday  Wednesday   Thursday  Occupation\n",
       "Name                                                                    \n",
       "Efrat   9.600000   8.600000  12.000000   9.100000   9.100000      Lawyer\n",
       "Liel    5.250000   7.700000   6.250000   8.200000   8.200000     Teacher\n",
       "Haim    9.311012   8.990442   9.848615   9.768149   9.379209      Lawyer\n",
       "Moshe  11.241555  10.711496  10.817065  11.379077  10.528601      Lawyer\n",
       "Tal     8.390443   8.879370   8.976997   7.778684   9.037238  Programmer"
      ]
     },
     "execution_count": 27,
     "metadata": {},
     "output_type": "execute_result"
    }
   ],
   "source": [
    "df.index.name = 'Name'\n",
    "df.head(5)"
   ]
  },
  {
   "cell_type": "code",
   "execution_count": 28,
   "metadata": {
    "pixiedust": {
     "displayParams": {
      "handlerId": "tableView"
     }
    }
   },
   "outputs": [
    {
     "data": {
      "text/plain": [
       "8.165443     1\n",
       "9.311012     1\n",
       "11.241555    1\n",
       "9.600000     1\n",
       "8.518436     1\n",
       "8.390443     1\n",
       "5.250000     1\n",
       "Name: Sunday, dtype: int64"
      ]
     },
     "execution_count": 28,
     "metadata": {},
     "output_type": "execute_result"
    }
   ],
   "source": [
    "# And their values can be changed\n",
    "df.index.values[-1] = 'Yaniv'\n",
    "df['Sunday'].value_counts()"
   ]
  },
  {
   "cell_type": "code",
   "execution_count": 29,
   "metadata": {},
   "outputs": [
    {
     "data": {
      "text/html": [
       "<div>\n",
       "<style scoped>\n",
       "    .dataframe tbody tr th:only-of-type {\n",
       "        vertical-align: middle;\n",
       "    }\n",
       "\n",
       "    .dataframe tbody tr th {\n",
       "        vertical-align: top;\n",
       "    }\n",
       "\n",
       "    .dataframe thead th {\n",
       "        text-align: right;\n",
       "    }\n",
       "</style>\n",
       "<table border=\"1\" class=\"dataframe\">\n",
       "  <thead>\n",
       "    <tr style=\"text-align: right;\">\n",
       "      <th></th>\n",
       "      <th>Occupation</th>\n",
       "      <th>Lawyer</th>\n",
       "      <th>Programmer</th>\n",
       "      <th>Teacher</th>\n",
       "    </tr>\n",
       "    <tr>\n",
       "      <th>Aggregations</th>\n",
       "      <th>Weekday</th>\n",
       "      <th></th>\n",
       "      <th></th>\n",
       "      <th></th>\n",
       "    </tr>\n",
       "  </thead>\n",
       "  <tbody>\n",
       "    <tr>\n",
       "      <th>sum</th>\n",
       "      <th>Sunday</th>\n",
       "      <td>30.152567</td>\n",
       "      <td>25.074323</td>\n",
       "      <td>5.25</td>\n",
       "    </tr>\n",
       "    <tr>\n",
       "      <th>mean</th>\n",
       "      <th>Sunday</th>\n",
       "      <td>10.050856</td>\n",
       "      <td>8.358108</td>\n",
       "      <td>5.25</td>\n",
       "    </tr>\n",
       "    <tr>\n",
       "      <th>amax</th>\n",
       "      <th>Sunday</th>\n",
       "      <td>11.241555</td>\n",
       "      <td>8.518436</td>\n",
       "      <td>5.25</td>\n",
       "    </tr>\n",
       "    <tr>\n",
       "      <th>sum</th>\n",
       "      <th>Monday</th>\n",
       "      <td>28.301938</td>\n",
       "      <td>26.033943</td>\n",
       "      <td>7.70</td>\n",
       "    </tr>\n",
       "    <tr>\n",
       "      <th>mean</th>\n",
       "      <th>Monday</th>\n",
       "      <td>9.433979</td>\n",
       "      <td>8.677981</td>\n",
       "      <td>7.70</td>\n",
       "    </tr>\n",
       "    <tr>\n",
       "      <th>amax</th>\n",
       "      <th>Monday</th>\n",
       "      <td>10.711496</td>\n",
       "      <td>8.879370</td>\n",
       "      <td>7.70</td>\n",
       "    </tr>\n",
       "    <tr>\n",
       "      <th>sum</th>\n",
       "      <th>Tuesday</th>\n",
       "      <td>32.665680</td>\n",
       "      <td>26.645225</td>\n",
       "      <td>6.25</td>\n",
       "    </tr>\n",
       "    <tr>\n",
       "      <th>mean</th>\n",
       "      <th>Tuesday</th>\n",
       "      <td>10.888560</td>\n",
       "      <td>8.881742</td>\n",
       "      <td>6.25</td>\n",
       "    </tr>\n",
       "    <tr>\n",
       "      <th>amax</th>\n",
       "      <th>Tuesday</th>\n",
       "      <td>12.000000</td>\n",
       "      <td>9.139891</td>\n",
       "      <td>6.25</td>\n",
       "    </tr>\n",
       "    <tr>\n",
       "      <th>sum</th>\n",
       "      <th>Wednesday</th>\n",
       "      <td>30.247225</td>\n",
       "      <td>25.129761</td>\n",
       "      <td>8.20</td>\n",
       "    </tr>\n",
       "    <tr>\n",
       "      <th>mean</th>\n",
       "      <th>Wednesday</th>\n",
       "      <td>10.082408</td>\n",
       "      <td>8.376587</td>\n",
       "      <td>8.20</td>\n",
       "    </tr>\n",
       "    <tr>\n",
       "      <th>amax</th>\n",
       "      <th>Wednesday</th>\n",
       "      <td>11.379077</td>\n",
       "      <td>9.620265</td>\n",
       "      <td>8.20</td>\n",
       "    </tr>\n",
       "    <tr>\n",
       "      <th>sum</th>\n",
       "      <th>Thursday</th>\n",
       "      <td>29.007810</td>\n",
       "      <td>26.038249</td>\n",
       "      <td>8.20</td>\n",
       "    </tr>\n",
       "    <tr>\n",
       "      <th>mean</th>\n",
       "      <th>Thursday</th>\n",
       "      <td>9.669270</td>\n",
       "      <td>8.679416</td>\n",
       "      <td>8.20</td>\n",
       "    </tr>\n",
       "    <tr>\n",
       "      <th>amax</th>\n",
       "      <th>Thursday</th>\n",
       "      <td>10.528601</td>\n",
       "      <td>9.562895</td>\n",
       "      <td>8.20</td>\n",
       "    </tr>\n",
       "  </tbody>\n",
       "</table>\n",
       "</div>"
      ],
      "text/plain": [
       "Occupation                 Lawyer  Programmer  Teacher\n",
       "Aggregations Weekday                                  \n",
       "sum          Sunday     30.152567   25.074323     5.25\n",
       "mean         Sunday     10.050856    8.358108     5.25\n",
       "amax         Sunday     11.241555    8.518436     5.25\n",
       "sum          Monday     28.301938   26.033943     7.70\n",
       "mean         Monday      9.433979    8.677981     7.70\n",
       "amax         Monday     10.711496    8.879370     7.70\n",
       "sum          Tuesday    32.665680   26.645225     6.25\n",
       "mean         Tuesday    10.888560    8.881742     6.25\n",
       "amax         Tuesday    12.000000    9.139891     6.25\n",
       "sum          Wednesday  30.247225   25.129761     8.20\n",
       "mean         Wednesday  10.082408    8.376587     8.20\n",
       "amax         Wednesday  11.379077    9.620265     8.20\n",
       "sum          Thursday   29.007810   26.038249     8.20\n",
       "mean         Thursday    9.669270    8.679416     8.20\n",
       "amax         Thursday   10.528601    9.562895     8.20"
      ]
     },
     "execution_count": 29,
     "metadata": {},
     "output_type": "execute_result"
    }
   ],
   "source": [
    "# Indexes can be swapped\n",
    "\n",
    "workhours.swaplevel()"
   ]
  },
  {
   "cell_type": "markdown",
   "metadata": {},
   "source": [
    "## Interval Indexes"
   ]
  },
  {
   "cell_type": "code",
   "execution_count": 30,
   "metadata": {},
   "outputs": [
    {
     "data": {
      "text/html": [
       "<div>\n",
       "<style scoped>\n",
       "    .dataframe tbody tr th:only-of-type {\n",
       "        vertical-align: middle;\n",
       "    }\n",
       "\n",
       "    .dataframe tbody tr th {\n",
       "        vertical-align: top;\n",
       "    }\n",
       "\n",
       "    .dataframe thead th {\n",
       "        text-align: right;\n",
       "    }\n",
       "</style>\n",
       "<table border=\"1\" class=\"dataframe\">\n",
       "  <thead>\n",
       "    <tr style=\"text-align: right;\">\n",
       "      <th></th>\n",
       "      <th>A</th>\n",
       "    </tr>\n",
       "  </thead>\n",
       "  <tbody>\n",
       "    <tr>\n",
       "      <th>(0.0, 1.5]</th>\n",
       "      <td>1</td>\n",
       "    </tr>\n",
       "    <tr>\n",
       "      <th>(0.5, 2.5]</th>\n",
       "      <td>2</td>\n",
       "    </tr>\n",
       "  </tbody>\n",
       "</table>\n",
       "</div>"
      ],
      "text/plain": [
       "            A\n",
       "(0.0, 1.5]  1\n",
       "(0.5, 2.5]  2"
      ]
     },
     "execution_count": 30,
     "metadata": {},
     "output_type": "execute_result"
    }
   ],
   "source": [
    "#\n",
    "# Interval indexes can be used to search in intervals:\n",
    "#\n",
    "index = pd.IntervalIndex([pd.Interval(0, 1.5), pd.Interval(0.5, 2.5)])\n",
    "dfi = pd.DataFrame({'A': [1, 2]}, index=index)\n",
    "dfi.loc[1]"
   ]
  },
  {
   "cell_type": "markdown",
   "metadata": {},
   "source": [
    "*Change the first interval from (0, 1.5] to (2.5, 3] by accessing it through .values. Did it really change?*"
   ]
  },
  {
   "cell_type": "code",
   "execution_count": 31,
   "metadata": {},
   "outputs": [
    {
     "data": {
      "text/plain": [
       "IntervalIndex([(0.0, 1.5], (0.5, 2.5]]\n",
       "              closed='right',\n",
       "              dtype='interval[float64]')"
      ]
     },
     "execution_count": 31,
     "metadata": {},
     "output_type": "execute_result"
    }
   ],
   "source": [
    "dfi.index.values[0] = pd.Interval(2.5, 3)\n",
    "dfi.index"
   ]
  },
  {
   "cell_type": "markdown",
   "metadata": {},
   "source": [
    "## One-Hot Encoding"
   ]
  },
  {
   "cell_type": "code",
   "execution_count": 32,
   "metadata": {},
   "outputs": [
    {
     "data": {
      "text/html": [
       "<div>\n",
       "<style scoped>\n",
       "    .dataframe tbody tr th:only-of-type {\n",
       "        vertical-align: middle;\n",
       "    }\n",
       "\n",
       "    .dataframe tbody tr th {\n",
       "        vertical-align: top;\n",
       "    }\n",
       "\n",
       "    .dataframe thead th {\n",
       "        text-align: right;\n",
       "    }\n",
       "</style>\n",
       "<table border=\"1\" class=\"dataframe\">\n",
       "  <thead>\n",
       "    <tr style=\"text-align: right;\">\n",
       "      <th></th>\n",
       "      <th>a</th>\n",
       "      <th>b</th>\n",
       "      <th>c</th>\n",
       "    </tr>\n",
       "  </thead>\n",
       "  <tbody>\n",
       "    <tr>\n",
       "      <th>0</th>\n",
       "      <td>1</td>\n",
       "      <td>0</td>\n",
       "      <td>0</td>\n",
       "    </tr>\n",
       "    <tr>\n",
       "      <th>1</th>\n",
       "      <td>1</td>\n",
       "      <td>0</td>\n",
       "      <td>0</td>\n",
       "    </tr>\n",
       "    <tr>\n",
       "      <th>2</th>\n",
       "      <td>1</td>\n",
       "      <td>0</td>\n",
       "      <td>0</td>\n",
       "    </tr>\n",
       "    <tr>\n",
       "      <th>3</th>\n",
       "      <td>0</td>\n",
       "      <td>1</td>\n",
       "      <td>0</td>\n",
       "    </tr>\n",
       "    <tr>\n",
       "      <th>4</th>\n",
       "      <td>0</td>\n",
       "      <td>1</td>\n",
       "      <td>0</td>\n",
       "    </tr>\n",
       "    <tr>\n",
       "      <th>5</th>\n",
       "      <td>0</td>\n",
       "      <td>1</td>\n",
       "      <td>0</td>\n",
       "    </tr>\n",
       "    <tr>\n",
       "      <th>6</th>\n",
       "      <td>0</td>\n",
       "      <td>0</td>\n",
       "      <td>1</td>\n",
       "    </tr>\n",
       "    <tr>\n",
       "      <th>7</th>\n",
       "      <td>0</td>\n",
       "      <td>0</td>\n",
       "      <td>1</td>\n",
       "    </tr>\n",
       "    <tr>\n",
       "      <th>8</th>\n",
       "      <td>0</td>\n",
       "      <td>0</td>\n",
       "      <td>1</td>\n",
       "    </tr>\n",
       "  </tbody>\n",
       "</table>\n",
       "</div>"
      ],
      "text/plain": [
       "   a  b  c\n",
       "0  1  0  0\n",
       "1  1  0  0\n",
       "2  1  0  0\n",
       "3  0  1  0\n",
       "4  0  1  0\n",
       "5  0  1  0\n",
       "6  0  0  1\n",
       "7  0  0  1\n",
       "8  0  0  1"
      ]
     },
     "execution_count": 32,
     "metadata": {},
     "output_type": "execute_result"
    }
   ],
   "source": [
    "cseries = pd.Categorical(list('aaabbbccc'))\n",
    "cseries\n",
    "\n",
    "# get_dummies() function can be used to create one-hot encoding\n",
    "# of categorical data\n",
    "\n",
    "pd.get_dummies(cseries)"
   ]
  },
  {
   "cell_type": "markdown",
   "metadata": {},
   "source": [
    "*Convert \"Occupation\" to a categorical column in df*"
   ]
  },
  {
   "cell_type": "code",
   "execution_count": 33,
   "metadata": {},
   "outputs": [
    {
     "data": {
      "text/html": [
       "<div>\n",
       "<style scoped>\n",
       "    .dataframe tbody tr th:only-of-type {\n",
       "        vertical-align: middle;\n",
       "    }\n",
       "\n",
       "    .dataframe tbody tr th {\n",
       "        vertical-align: top;\n",
       "    }\n",
       "\n",
       "    .dataframe thead th {\n",
       "        text-align: right;\n",
       "    }\n",
       "</style>\n",
       "<table border=\"1\" class=\"dataframe\">\n",
       "  <thead>\n",
       "    <tr style=\"text-align: right;\">\n",
       "      <th></th>\n",
       "      <th>Sunday</th>\n",
       "      <th>Monday</th>\n",
       "      <th>Tuesday</th>\n",
       "      <th>Wednesday</th>\n",
       "      <th>Thursday</th>\n",
       "      <th>Occupation</th>\n",
       "    </tr>\n",
       "    <tr>\n",
       "      <th>Name</th>\n",
       "      <th></th>\n",
       "      <th></th>\n",
       "      <th></th>\n",
       "      <th></th>\n",
       "      <th></th>\n",
       "      <th></th>\n",
       "    </tr>\n",
       "  </thead>\n",
       "  <tbody>\n",
       "    <tr>\n",
       "      <th>Efrat</th>\n",
       "      <td>9.600000</td>\n",
       "      <td>8.600000</td>\n",
       "      <td>12.000000</td>\n",
       "      <td>9.100000</td>\n",
       "      <td>9.100000</td>\n",
       "      <td>Lawyer</td>\n",
       "    </tr>\n",
       "    <tr>\n",
       "      <th>Liel</th>\n",
       "      <td>5.250000</td>\n",
       "      <td>7.700000</td>\n",
       "      <td>6.250000</td>\n",
       "      <td>8.200000</td>\n",
       "      <td>8.200000</td>\n",
       "      <td>Teacher</td>\n",
       "    </tr>\n",
       "    <tr>\n",
       "      <th>Haim</th>\n",
       "      <td>9.311012</td>\n",
       "      <td>8.990442</td>\n",
       "      <td>9.848615</td>\n",
       "      <td>9.768149</td>\n",
       "      <td>9.379209</td>\n",
       "      <td>Lawyer</td>\n",
       "    </tr>\n",
       "    <tr>\n",
       "      <th>Moshe</th>\n",
       "      <td>11.241555</td>\n",
       "      <td>10.711496</td>\n",
       "      <td>10.817065</td>\n",
       "      <td>11.379077</td>\n",
       "      <td>10.528601</td>\n",
       "      <td>Lawyer</td>\n",
       "    </tr>\n",
       "    <tr>\n",
       "      <th>Tal</th>\n",
       "      <td>8.390443</td>\n",
       "      <td>8.879370</td>\n",
       "      <td>8.976997</td>\n",
       "      <td>7.778684</td>\n",
       "      <td>9.037238</td>\n",
       "      <td>Programmer</td>\n",
       "    </tr>\n",
       "    <tr>\n",
       "      <th>Tali</th>\n",
       "      <td>8.518436</td>\n",
       "      <td>8.530204</td>\n",
       "      <td>8.528337</td>\n",
       "      <td>9.620265</td>\n",
       "      <td>9.562895</td>\n",
       "      <td>Programmer</td>\n",
       "    </tr>\n",
       "    <tr>\n",
       "      <th>Yaniv</th>\n",
       "      <td>8.165443</td>\n",
       "      <td>8.624368</td>\n",
       "      <td>9.139891</td>\n",
       "      <td>7.730812</td>\n",
       "      <td>7.438116</td>\n",
       "      <td>Programmer</td>\n",
       "    </tr>\n",
       "  </tbody>\n",
       "</table>\n",
       "</div>"
      ],
      "text/plain": [
       "          Sunday     Monday    Tuesday  Wednesday   Thursday  Occupation\n",
       "Name                                                                    \n",
       "Efrat   9.600000   8.600000  12.000000   9.100000   9.100000      Lawyer\n",
       "Liel    5.250000   7.700000   6.250000   8.200000   8.200000     Teacher\n",
       "Haim    9.311012   8.990442   9.848615   9.768149   9.379209      Lawyer\n",
       "Moshe  11.241555  10.711496  10.817065  11.379077  10.528601      Lawyer\n",
       "Tal     8.390443   8.879370   8.976997   7.778684   9.037238  Programmer\n",
       "Tali    8.518436   8.530204   8.528337   9.620265   9.562895  Programmer\n",
       "Yaniv   8.165443   8.624368   9.139891   7.730812   7.438116  Programmer"
      ]
     },
     "execution_count": 33,
     "metadata": {},
     "output_type": "execute_result"
    }
   ],
   "source": [
    "dfc = df.copy()\n",
    "dfc['Occupation'] = pd.Categorical(df['Occupation'])\n",
    "dfc"
   ]
  },
  {
   "cell_type": "markdown",
   "metadata": {},
   "source": [
    "## Time"
   ]
  },
  {
   "cell_type": "code",
   "execution_count": 34,
   "metadata": {},
   "outputs": [
    {
     "data": {
      "text/plain": [
       "DatetimeIndex(['2018-09-01', '2018-09-02', '2018-09-03', '2018-09-04',\n",
       "               '2018-09-05', '2018-09-06', '2018-09-07', '2018-09-08',\n",
       "               '2018-09-09', '2018-09-10', '2018-09-11', '2018-09-12',\n",
       "               '2018-09-13', '2018-09-14'],\n",
       "              dtype='datetime64[ns]', freq='D')"
      ]
     },
     "execution_count": 34,
     "metadata": {},
     "output_type": "execute_result"
    }
   ],
   "source": [
    "rng = pd.date_range('2018-09-01', periods=14, freq='D')\n",
    "rng"
   ]
  },
  {
   "cell_type": "code",
   "execution_count": 35,
   "metadata": {},
   "outputs": [
    {
     "data": {
      "text/plain": [
       "DatetimeIndex(['1700-01-01', '1700-01-02', '1700-01-04', '1700-01-05',\n",
       "               '1700-01-06', '1700-01-08'],\n",
       "              dtype='datetime64[ns]', freq='C')"
      ]
     },
     "execution_count": 35,
     "metadata": {},
     "output_type": "execute_result"
    }
   ],
   "source": [
    "# date range can be masked\n",
    "weekmask = [True, True, True, False, True, True, True]\n",
    "holidays = ['1700-01-03']\n",
    "\n",
    "# Business date range (default weekmask excludes weekends)\n",
    "pd.bdate_range('1700-01-01', '1700-01-08', freq='C',\n",
    "               weekmask=weekmask, holidays=holidays)"
   ]
  },
  {
   "cell_type": "markdown",
   "metadata": {},
   "source": [
    "*Create a date range of the first 2 weeks of September 2018 with holidays (2018-09-09 through 2018-09-11) and weekends excluded*"
   ]
  },
  {
   "cell_type": "code",
   "execution_count": 36,
   "metadata": {},
   "outputs": [
    {
     "data": {
      "text/plain": [
       "DatetimeIndex(['2018-09-02 00:00:00+03:00', '2018-09-03 00:00:00+03:00',\n",
       "               '2018-09-04 00:00:00+03:00', '2018-09-05 00:00:00+03:00',\n",
       "               '2018-09-06 00:00:00+03:00', '2018-09-12 00:00:00+03:00',\n",
       "               '2018-09-13 00:00:00+03:00'],\n",
       "              dtype='datetime64[ns, Israel]', freq='C')"
      ]
     },
     "execution_count": 36,
     "metadata": {},
     "output_type": "execute_result"
    }
   ],
   "source": [
    "pd.bdate_range(min(rng), max(rng), freq='C', tz='Israel',\n",
    "               weekmask=[1, 1, 1, 1, 0, 0, 1],\n",
    "               holidays=['2018-09-09', '2018-09-10', '2018-09-11'])"
   ]
  },
  {
   "cell_type": "code",
   "execution_count": 37,
   "metadata": {},
   "outputs": [
    {
     "data": {
      "text/plain": [
       "'datetime64[ns]'"
      ]
     },
     "execution_count": 37,
     "metadata": {},
     "output_type": "execute_result"
    }
   ],
   "source": [
    "#\n",
    "# The values in numpy array are of type datetime64\n",
    "#\n",
    "str(rng.values.dtype)"
   ]
  },
  {
   "cell_type": "code",
   "execution_count": 38,
   "metadata": {},
   "outputs": [
    {
     "data": {
      "text/plain": [
       "2018-09-01 00:00:00     0\n",
       "2018-09-01 05:00:00     0\n",
       "2018-09-01 10:00:00     0\n",
       "2018-09-01 15:00:00     0\n",
       "2018-09-01 20:00:00     0\n",
       "2018-09-02 01:00:00     1\n",
       "2018-09-02 06:00:00     1\n",
       "2018-09-02 11:00:00     1\n",
       "2018-09-02 16:00:00     1\n",
       "2018-09-02 21:00:00     1\n",
       "2018-09-03 02:00:00     2\n",
       "2018-09-03 07:00:00     2\n",
       "2018-09-03 12:00:00     2\n",
       "2018-09-03 17:00:00     2\n",
       "2018-09-03 22:00:00     2\n",
       "2018-09-04 03:00:00     3\n",
       "2018-09-04 08:00:00     3\n",
       "2018-09-04 13:00:00     3\n",
       "2018-09-04 18:00:00     3\n",
       "2018-09-04 23:00:00     3\n",
       "2018-09-05 04:00:00     4\n",
       "2018-09-05 09:00:00     4\n",
       "2018-09-05 14:00:00     4\n",
       "2018-09-05 19:00:00     4\n",
       "2018-09-06 00:00:00     5\n",
       "2018-09-06 05:00:00     5\n",
       "2018-09-06 10:00:00     5\n",
       "2018-09-06 15:00:00     5\n",
       "2018-09-06 20:00:00     5\n",
       "2018-09-07 01:00:00     6\n",
       "                       ..\n",
       "2018-09-07 21:00:00     6\n",
       "2018-09-08 02:00:00     7\n",
       "2018-09-08 07:00:00     7\n",
       "2018-09-08 12:00:00     7\n",
       "2018-09-08 17:00:00     7\n",
       "2018-09-08 22:00:00     7\n",
       "2018-09-09 03:00:00     8\n",
       "2018-09-09 08:00:00     8\n",
       "2018-09-09 13:00:00     8\n",
       "2018-09-09 18:00:00     8\n",
       "2018-09-09 23:00:00     8\n",
       "2018-09-10 04:00:00     9\n",
       "2018-09-10 09:00:00     9\n",
       "2018-09-10 14:00:00     9\n",
       "2018-09-10 19:00:00     9\n",
       "2018-09-11 00:00:00    10\n",
       "2018-09-11 05:00:00    10\n",
       "2018-09-11 10:00:00    10\n",
       "2018-09-11 15:00:00    10\n",
       "2018-09-11 20:00:00    10\n",
       "2018-09-12 01:00:00    11\n",
       "2018-09-12 06:00:00    11\n",
       "2018-09-12 11:00:00    11\n",
       "2018-09-12 16:00:00    11\n",
       "2018-09-12 21:00:00    11\n",
       "2018-09-13 02:00:00    12\n",
       "2018-09-13 07:00:00    12\n",
       "2018-09-13 12:00:00    12\n",
       "2018-09-13 17:00:00    12\n",
       "2018-09-13 22:00:00    12\n",
       "Freq: 5H, Length: 63, dtype: int64"
      ]
     },
     "execution_count": 38,
     "metadata": {},
     "output_type": "execute_result"
    }
   ],
   "source": [
    "#\n",
    "# Create a series indexed by date:\n",
    "#\n",
    "ts = pd.Series(range(len(rng)), index=rng)\n",
    "#display(ts)\n",
    "\n",
    "#\n",
    "# Upsample the sequence\n",
    "#\n",
    "ts = ts.asfreq('5H', method='pad')\n",
    "ts"
   ]
  },
  {
   "cell_type": "markdown",
   "metadata": {},
   "source": [
    "*Implement days_to_hours method which converts days to hours resolution of a series by reindexing*"
   ]
  },
  {
   "cell_type": "code",
   "execution_count": null,
   "metadata": {},
   "outputs": [],
   "source": [
    "ts_days = pd.Series(range(len(rng)), index=rng)\n",
    "\n",
    "def days_to_hours(ts):\n",
    "    rng = pd.date_range(ts.index.min(), ts.index.max()+pd.Timedelta(1),\n",
    "                        freq='H')\n",
    "    return ts.reindex(rng).fillna(method='ffill')\n",
    "    \n",
    "days_to_hours(ts_days)"
   ]
  },
  {
   "cell_type": "code",
   "execution_count": null,
   "metadata": {},
   "outputs": [],
   "source": [
    "#\n",
    "# Downsample the sequence\n",
    "#\n",
    "ts = ts.resample('D').min()\n",
    "ts"
   ]
  },
  {
   "cell_type": "markdown",
   "metadata": {},
   "source": [
    "*Upsample the sequence again by putting the mean between the previous and the next values for each added row using two different methods:*\n",
    "* *integer indexing*\n",
    "* *groupby*"
   ]
  },
  {
   "cell_type": "code",
   "execution_count": null,
   "metadata": {},
   "outputs": [],
   "source": []
  },
  {
   "cell_type": "code",
   "execution_count": null,
   "metadata": {},
   "outputs": [],
   "source": [
    "from datetime import time\n",
    "\n",
    "r = ts.asfreq('12H')\n",
    "r.iloc[1::2] = (r.iloc[:-1:2].values + r.iloc[2::2].values) / 2\n",
    "#print(r, end='\\n\\n')\n",
    "\n",
    "f = ts.asfreq('12H')\n",
    "r = f.groupby(lambda x: x.time)\n",
    "\n",
    "twelve = r.groups[time(12, 0)]\n",
    "zero = r.groups[time(0, 0)]\n",
    "\n",
    "f[twelve] = (f[zero[1:]].values + f[zero[:-1]].values) / 2\n",
    "#print(f)\n",
    "\n",
    "p = ts.asfreq('6H')\n",
    "p.interpolate()\n",
    "#p.interpolate(inplace=True)"
   ]
  },
  {
   "cell_type": "code",
   "execution_count": null,
   "metadata": {},
   "outputs": [],
   "source": [
    "rng = pd.date_range('2018-09-01', periods=14, freq='D')\n",
    "ts = pd.Series(range(len(rng)), rng)\n",
    "f = ts.asfreq('12H')\n",
    "f.groupby(lambda x: x.time)"
   ]
  },
  {
   "cell_type": "code",
   "execution_count": null,
   "metadata": {},
   "outputs": [],
   "source": [
    "# Dates can be indexed by periods\n",
    "\n",
    "ts['2018-09']"
   ]
  },
  {
   "cell_type": "code",
   "execution_count": null,
   "metadata": {},
   "outputs": [],
   "source": [
    "# Periods can also be indexes\n",
    "\n",
    "periods = [pd.Period('2018-08'), pd.Period('2018-09'),\n",
    "           pd.Period('2018-10')]\n",
    "ts = pd.Series(range(3), periods)\n",
    "ts"
   ]
  },
  {
   "cell_type": "markdown",
   "metadata": {},
   "source": [
    "*Create a series mapping dates (in some format) to the relevant weekday for the past two millenia (assuming Gregorian calendar was always used the way we use it now)*"
   ]
  },
  {
   "cell_type": "code",
   "execution_count": null,
   "metadata": {},
   "outputs": [],
   "source": [
    "from datetime import timedelta, datetime\n",
    "\n",
    "N_DAYS_IN_2000_YEARS = int(2000 * 365.2422) + 1\n",
    "\n",
    "now = datetime.now()\n",
    "dates = [(now - timedelta(i)).date() for i in range(N_DAYS_IN_2000_YEARS)]\n",
    "\n",
    "index = pd.PeriodIndex(dates, freq='D')\n",
    "series = pd.Series(index, index)\n",
    "\n",
    "series = series.dt.strftime('%A')"
   ]
  },
  {
   "cell_type": "code",
   "execution_count": null,
   "metadata": {},
   "outputs": [],
   "source": [
    "series.tail()"
   ]
  },
  {
   "cell_type": "code",
   "execution_count": null,
   "metadata": {},
   "outputs": [],
   "source": [
    "series['0018-09-13']"
   ]
  },
  {
   "cell_type": "code",
   "execution_count": null,
   "metadata": {},
   "outputs": [],
   "source": [
    "series['0018-09-16'] # Should output \"Sunday\""
   ]
  },
  {
   "cell_type": "markdown",
   "metadata": {},
   "source": [
    "## Rolling"
   ]
  },
  {
   "cell_type": "code",
   "execution_count": null,
   "metadata": {},
   "outputs": [],
   "source": [
    "# Calculate rolling window mean for window of size 5\n",
    "\n",
    "roll = pd.Series(range(100))\n",
    "roll.rolling(5).mean()"
   ]
  },
  {
   "cell_type": "markdown",
   "metadata": {},
   "source": [
    "## Merging"
   ]
  },
  {
   "cell_type": "code",
   "execution_count": null,
   "metadata": {},
   "outputs": [],
   "source": [
    "from scipy.sparse import coo_matrix\n",
    "\n",
    "matrix_1 = coo_matrix(np.ones((2, 2)) * 5)\n",
    "matrix_2 = coo_matrix(np.ones((2, 2)) * 2)\n",
    "\n",
    "# Create dataframes from the values of coo_matrix\n",
    "df_1 = pd.DataFrame({'row': matrix_1.row,\n",
    "                     'col': matrix_1.col, 'data': matrix_1.data})\n",
    "df_2 = pd.DataFrame({'row': matrix_2.row, 'col': matrix_2.col, \n",
    "                     'data': matrix_2.data})\n",
    "df_2"
   ]
  },
  {
   "cell_type": "code",
   "execution_count": 1405,
   "metadata": {},
   "outputs": [
    {
     "data": {
      "text/html": [
       "<div>\n",
       "<style scoped>\n",
       "    .dataframe tbody tr th:only-of-type {\n",
       "        vertical-align: middle;\n",
       "    }\n",
       "\n",
       "    .dataframe tbody tr th {\n",
       "        vertical-align: top;\n",
       "    }\n",
       "\n",
       "    .dataframe thead th {\n",
       "        text-align: right;\n",
       "    }\n",
       "</style>\n",
       "<table border=\"1\" class=\"dataframe\">\n",
       "  <thead>\n",
       "    <tr style=\"text-align: right;\">\n",
       "      <th>col</th>\n",
       "      <th>0</th>\n",
       "      <th>1</th>\n",
       "    </tr>\n",
       "    <tr>\n",
       "      <th>row</th>\n",
       "      <th></th>\n",
       "      <th></th>\n",
       "    </tr>\n",
       "  </thead>\n",
       "  <tbody>\n",
       "    <tr>\n",
       "      <th>0</th>\n",
       "      <td>2.0</td>\n",
       "      <td>2.0</td>\n",
       "    </tr>\n",
       "    <tr>\n",
       "      <th>1</th>\n",
       "      <td>2.0</td>\n",
       "      <td>2.0</td>\n",
       "    </tr>\n",
       "  </tbody>\n",
       "</table>\n",
       "</div>"
      ],
      "text/plain": [
       "col    0    1\n",
       "row          \n",
       "0    2.0  2.0\n",
       "1    2.0  2.0"
      ]
     },
     "execution_count": 1405,
     "metadata": {},
     "output_type": "execute_result"
    }
   ],
   "source": [
    "df_2.pivot('row', 'col', 'data')"
   ]
  },
  {
   "cell_type": "code",
   "execution_count": null,
   "metadata": {},
   "outputs": [],
   "source": [
    "df_3 = pd.merge(df_1, df_2, on=['row', 'col'])\n",
    "df_3"
   ]
  },
  {
   "cell_type": "markdown",
   "metadata": {},
   "source": [
    "# Pandas"
   ]
  },
  {
   "cell_type": "markdown",
   "metadata": {},
   "source": [
    "*Calculate matrix multiplication of df_1 and df_2 using pd.merge and groupby*"
   ]
  },
  {
   "cell_type": "code",
   "execution_count": null,
   "metadata": {},
   "outputs": [],
   "source": [
    "# Select multiplied values \n",
    "join = pd.merge(df_1, df_2, left_on='col', right_on='row')\n",
    "join.drop(['col_x', 'row_y'], axis=1, inplace=True)\n",
    "\n",
    "join['prod'] = join['data_x'] * join['data_y']\n",
    "join.drop(['data_x', 'data_y'], axis=1, inplace=True)\n",
    "join = join.groupby(['row_x', 'col_y']).sum()\n",
    "join"
   ]
  },
  {
   "cell_type": "markdown",
   "metadata": {},
   "source": [
    "# Integrations"
   ]
  },
  {
   "cell_type": "code",
   "execution_count": null,
   "metadata": {},
   "outputs": [],
   "source": [
    "# Print the availble input sources for dataframes:\n",
    "\n",
    "[s for s in dir(pd) if s.startswith('read_')]"
   ]
  },
  {
   "cell_type": "markdown",
   "metadata": {},
   "source": [
    "## Files"
   ]
  },
  {
   "cell_type": "code",
   "execution_count": null,
   "metadata": {},
   "outputs": [],
   "source": [
    "# Save csv file\n",
    "\n",
    "df.to_csv('workhours.csv')\n",
    "\n",
    "# Print the contents of a file\n",
    "with open('workhours.csv') as f:\n",
    "    print(f.read())\n",
    "    \n",
    "# Read back the file to dataframe\n",
    "pd.read_csv('workhours.csv', index_col='Name')"
   ]
  },
  {
   "cell_type": "markdown",
   "metadata": {},
   "source": [
    "## Databases"
   ]
  },
  {
   "cell_type": "code",
   "execution_count": null,
   "metadata": {},
   "outputs": [],
   "source": [
    "# Create a database\n",
    "\n",
    "import sqlite3\n",
    "\n",
    "db = sqlite3.connect(\":memory:\")"
   ]
  },
  {
   "cell_type": "code",
   "execution_count": null,
   "metadata": {},
   "outputs": [],
   "source": [
    "#\n",
    "# Copy the dataframe to the database\n",
    "#\n",
    "\n",
    "df.to_sql('hours', db)"
   ]
  },
  {
   "cell_type": "code",
   "execution_count": null,
   "metadata": {},
   "outputs": [],
   "source": [
    "#\n",
    "# Extract from database\n",
    "#\n",
    "\n",
    "pd.read_sql('select * from hours', db, index_col='Name')"
   ]
  },
  {
   "cell_type": "markdown",
   "metadata": {},
   "source": [
    "## Scikit"
   ]
  },
  {
   "cell_type": "code",
   "execution_count": null,
   "metadata": {},
   "outputs": [],
   "source": [
    "from sklearn.preprocessing import MinMaxScaler"
   ]
  },
  {
   "cell_type": "code",
   "execution_count": null,
   "metadata": {},
   "outputs": [],
   "source": [
    "X = df.drop('Occupation', axis=1)\n",
    "\n",
    "X.iloc[:] = MinMaxScaler().fit_transform(X)\n",
    "X"
   ]
  },
  {
   "cell_type": "markdown",
   "metadata": {},
   "source": [
    "## PixieDust"
   ]
  },
  {
   "cell_type": "code",
   "execution_count": null,
   "metadata": {},
   "outputs": [],
   "source": [
    "from pixiedust import display"
   ]
  },
  {
   "cell_type": "code",
   "execution_count": null,
   "metadata": {
    "pixiedust": {
     "displayParams": {
      "aggregation": "SUM",
      "handlerId": "pieChart",
      "keyFields": "Occupation",
      "table_nocount": "true",
      "table_noschema": "true",
      "table_nosearch": "true",
      "valueFields": "Monday,Sunday"
     }
    }
   },
   "outputs": [],
   "source": [
    "display(df)"
   ]
  },
  {
   "cell_type": "markdown",
   "metadata": {},
   "source": [
    "## matplotlib"
   ]
  },
  {
   "cell_type": "code",
   "execution_count": null,
   "metadata": {},
   "outputs": [],
   "source": [
    "import seaborn as sns\n",
    "import matplotlib.pyplot as plt\n",
    "sns.set_style(\"whitegrid\")\n",
    "\n",
    "blue, = sns.color_palette(\"muted\", 1)\n",
    "\n",
    "efrat_hours = df.loc['Efrat'].drop('Occupation')\n",
    "efrat_hours.plot.hist(color=blue)"
   ]
  },
  {
   "cell_type": "markdown",
   "metadata": {},
   "source": [
    "## numpy"
   ]
  },
  {
   "cell_type": "code",
   "execution_count": null,
   "metadata": {},
   "outputs": [],
   "source": [
    "# Pandas built on top of numpy. Pandas data is actually\n",
    "# stored in numpy arrays and for homogeneously-typed\n",
    "# data it can be manipulated directly from numpy (except pd.Categorical columns))\n",
    "#\n",
    "# numpy functions can be executed directly on pandas.Series.\n",
    "\n",
    "series = pd.Series([8, 9, 100, 0, 67])\n",
    "\n",
    "np.argsort(series)"
   ]
  },
  {
   "cell_type": "code",
   "execution_count": null,
   "metadata": {},
   "outputs": [],
   "source": [
    "#\n",
    "# Numpy array values can be manipulated directly\n",
    "#\n",
    "print(type(series.values))\n",
    "series.values.sort()\n",
    "series"
   ]
  }
 ],
 "metadata": {
  "kernelspec": {
   "display_name": "Python 3",
   "language": "python",
   "name": "python3"
  },
  "language_info": {
   "codemirror_mode": {
    "name": "ipython",
    "version": 3
   },
   "file_extension": ".py",
   "mimetype": "text/x-python",
   "name": "python",
   "nbconvert_exporter": "python",
   "pygments_lexer": "ipython3",
   "version": "3.7.4"
  }
 },
 "nbformat": 4,
 "nbformat_minor": 2
}
